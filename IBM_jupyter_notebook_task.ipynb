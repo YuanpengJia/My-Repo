{
  "nbformat": 4,
  "nbformat_minor": 0,
  "metadata": {
    "colab": {
      "provenance": []
    },
    "kernelspec": {
      "name": "python3",
      "display_name": "Python 3"
    },
    "language_info": {
      "name": "python"
    }
  },
  "cells": [
    {
      "cell_type": "markdown",
      "source": [
        "# Data Science Tools and Ecosystem"
      ],
      "metadata": {
        "id": "dl5tmCX-ZbmN"
      }
    },
    {
      "cell_type": "markdown",
      "source": [
        "In this notebook, Data Science Tools and Ecosystem are summarized"
      ],
      "metadata": {
        "id": "7zNjYOMlZd2x"
      }
    },
    {
      "cell_type": "markdown",
      "source": [
        "Some of the popular languages that Data Scientists use are:\n",
        "1. Python\n",
        "2. R\n",
        "3. Julia\n",
        "4. SQL\n",
        "5. Java"
      ],
      "metadata": {
        "id": "1jxWH8lLZ1Le"
      }
    },
    {
      "cell_type": "markdown",
      "source": [
        "Some of the commonly used libraries used by Data Scientists include:\n",
        "1. Pandas\n",
        "2. Numpy\n",
        "3. Scipy\n",
        "4. SciKit-Learn"
      ],
      "metadata": {
        "id": "SQHE5xvJaEyx"
      }
    },
    {
      "cell_type": "markdown",
      "source": [
        "| Data Science Tools    |\n",
        "|-----------------------|\n",
        "| Jupyter Notebook      |\n",
        "| RStudio               |\n",
        "| Apache Zeppelin       |\n"
      ],
      "metadata": {
        "id": "E6zKm0_AaUts"
      }
    },
    {
      "cell_type": "markdown",
      "source": [
        "### Below are a few examples of evaluating arithmetic expressions in Python"
      ],
      "metadata": {
        "id": "3nmyTNCsbyHo"
      }
    },
    {
      "cell_type": "code",
      "execution_count": null,
      "metadata": {
        "id": "VPFoFVYSVTPc"
      },
      "outputs": [],
      "source": [
        "# This a simple arithmetic expression to mutiply then add integers\n",
        "(3*4)+5"
      ]
    },
    {
      "cell_type": "code",
      "source": [
        "# This will convert 200 minutes to hours by diving by 60\n",
        "minutes = 200\n",
        "hours = minutes / 60\n",
        "print(hours)"
      ],
      "metadata": {
        "id": "0YOyiUg1b_an"
      },
      "execution_count": null,
      "outputs": []
    },
    {
      "cell_type": "markdown",
      "source": [
        "## Author\n",
        "YJ"
      ],
      "metadata": {
        "id": "KfpgRlXgczkX"
      }
    }
  ]
}