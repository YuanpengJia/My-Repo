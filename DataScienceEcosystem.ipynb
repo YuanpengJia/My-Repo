{
 "cells": [
  {
   "cell_type": "markdown",
   "metadata": {
    "id": "dl5tmCX-ZbmN"
   },
   "source": [
    "# Data Science Tools and Ecosystem"
   ]
  },
  {
   "cell_type": "markdown",
   "metadata": {
    "id": "7zNjYOMlZd2x"
   },
   "source": [
    "In this notebook, Data Science Tools and Ecosystem are summarized"
   ]
  },
  {
   "cell_type": "markdown",
   "metadata": {},
   "source": [
    "Objectives\n",
    "- List popular languages for Data Science.\n",
    "- Describe the data science workflow.\n",
    "- Identify key Python libraries for data analysis.\n",
    "- Explain the importance of data visualization.\n",
    "- Demonstrate basic data manipulation techniques."
   ]
  },
  {
   "cell_type": "markdown",
   "metadata": {
    "id": "1jxWH8lLZ1Le"
   },
   "source": [
    "Some of the popular languages that Data Scientists use are:\n",
    "1. Python\n",
    "2. R\n",
    "3. Julia\n",
    "4. SQL\n",
    "5. Java"
   ]
  },
  {
   "cell_type": "markdown",
   "metadata": {
    "id": "SQHE5xvJaEyx"
   },
   "source": [
    "Some of the commonly used libraries used by Data Scientists include:\n",
    "1. Pandas\n",
    "2. Numpy\n",
    "3. Scipy\n",
    "4. SciKit-Learn"
   ]
  },
  {
   "cell_type": "markdown",
   "metadata": {
    "id": "E6zKm0_AaUts"
   },
   "source": [
    "| Data Science Tools    |\n",
    "|-----------------------|\n",
    "| Jupyter Notebook      |\n",
    "| RStudio               |\n",
    "| Apache Zeppelin       |\n"
   ]
  },
  {
   "cell_type": "markdown",
   "metadata": {
    "id": "3nmyTNCsbyHo"
   },
   "source": [
    "### Below are a few examples of evaluating arithmetic expressions in Python"
   ]
  },
  {
   "cell_type": "code",
   "execution_count": 1,
   "metadata": {
    "id": "VPFoFVYSVTPc"
   },
   "outputs": [
    {
     "data": {
      "text/plain": [
       "17"
      ]
     },
     "execution_count": 1,
     "metadata": {},
     "output_type": "execute_result"
    }
   ],
   "source": [
    "# This a simple arithmetic expression to mutiply then add integers\n",
    "(3*4)+5"
   ]
  },
  {
   "cell_type": "code",
   "execution_count": 2,
   "metadata": {
    "id": "0YOyiUg1b_an"
   },
   "outputs": [
    {
     "name": "stdout",
     "output_type": "stream",
     "text": [
      "3.3333333333333335\n"
     ]
    }
   ],
   "source": [
    "# This will convert 200 minutes to hours by diving by 60\n",
    "minutes = 200\n",
    "hours = minutes / 60\n",
    "print(hours)"
   ]
  },
  {
   "cell_type": "markdown",
   "metadata": {
    "id": "KfpgRlXgczkX"
   },
   "source": [
    "## Author\n",
    "YJ"
   ]
  },
  {
   "cell_type": "code",
   "execution_count": null,
   "metadata": {},
   "outputs": [],
   "source": []
  }
 ],
 "metadata": {
  "colab": {
   "provenance": []
  },
  "kernelspec": {
   "display_name": "Python 3 (ipykernel)",
   "language": "python",
   "name": "python3"
  },
  "language_info": {
   "codemirror_mode": {
    "name": "ipython",
    "version": 3
   },
   "file_extension": ".py",
   "mimetype": "text/x-python",
   "name": "python",
   "nbconvert_exporter": "python",
   "pygments_lexer": "ipython3",
   "version": "3.9.12"
  }
 },
 "nbformat": 4,
 "nbformat_minor": 1
}
